{
 "cells": [
  {
   "cell_type": "code",
   "execution_count": null,
   "metadata": {
    "collapsed": true
   },
   "outputs": [],
   "source": [
    "import pandas as pd\n",
    "import numpy as np\n",
    "import re"
   ]
  },
  {
   "cell_type": "markdown",
   "metadata": {},
   "source": [
    "## Loading data\n",
    "\n",
    "First, load all of the data frames I'm going to need and check out their shape"
   ]
  },
  {
   "cell_type": "code",
   "execution_count": null,
   "metadata": {
    "collapsed": false,
    "scrolled": true
   },
   "outputs": [],
   "source": [
    "seeds = pd.read_csv(\"march-madness-2017/TourneySeeds.csv\")\n",
    "seeds.tail()"
   ]
  },
  {
   "cell_type": "code",
   "execution_count": null,
   "metadata": {
    "collapsed": false
   },
   "outputs": [],
   "source": [
    "geog = pd.read_csv(\"march-madness-2017/TourneyGeog.csv\")\n",
    "geog.drop([\"lat\", \"lng\", \"host\"], axis=1, inplace=True)\n",
    "geog.head(5)"
   ]
  },
  {
   "cell_type": "code",
   "execution_count": null,
   "metadata": {
    "collapsed": false
   },
   "outputs": [],
   "source": [
    "games = pd.read_csv(\"march-madness-2017/TourneyCompactResults.csv\")\n",
    "#games = pd.concat([games, slots], ignore_index=True, axis=1)\n",
    "print(games.shape)\n",
    "games.head()\n",
    "\n"
   ]
  },
  {
   "cell_type": "code",
   "execution_count": null,
   "metadata": {
    "collapsed": false
   },
   "outputs": [],
   "source": [
    "slots = pd.read_csv(\"march-madness-2017/TourneySlots.csv\")\n",
    "slots = slots.reset_index(drop=True)\n",
    "print(slots.shape)\n",
    "slots.head(10)"
   ]
  },
  {
   "cell_type": "code",
   "execution_count": null,
   "metadata": {
    "collapsed": false
   },
   "outputs": [],
   "source": [
    "print(games.shape, slots.shape)\n",
    "\n",
    "# just take games since 2000\n",
    "games = games[games[\"Season\"] > 1999]\n",
    "\n",
    "\n",
    "games.head()"
   ]
  },
  {
   "cell_type": "markdown",
   "metadata": {},
   "source": [
    " ## Merge dataframes to get slots seeds and games in one frame"
   ]
  },
  {
   "cell_type": "code",
   "execution_count": null,
   "metadata": {
    "collapsed": false
   },
   "outputs": [],
   "source": [
    "# do merging of games with seeds and slots \n",
    "\n",
    "\n",
    "games = pd.merge(games, seeds, left_on=[\"Season\", \"Wteam\"], right_on=[\"Season\", \"Team\"], copy=False)\n",
    "games.rename(columns={\"Seed\":\"Wseed\"}, inplace=True)\n",
    "print(games.shape)\n",
    "games = pd.merge(games, seeds, left_on=[\"Season\", \"Lteam\"], right_on=[\"Season\", \"Team\"], copy=False)\n",
    "games.rename(columns={\"Seed\":\"Lseed\"}, inplace=True)\n",
    "print(games.shape)\n",
    "games = pd.merge(games, geog, left_on=[\"Season\", \"Wteam\", \"Lteam\"], right_on=[\"season\", \"wteam\", \"lteam\"], copy=False)\n",
    "print(games.shape)\n",
    "\n",
    "games.drop([\"wteam\", \"lteam\", \"Team_x\", \"Team_y\", \"Numot\", \"daynum\", \"season\", \"Wloc\"], axis=1, inplace=True)\n",
    "\n",
    "print(games.shape)"
   ]
  },
  {
   "cell_type": "code",
   "execution_count": null,
   "metadata": {
    "collapsed": false
   },
   "outputs": [],
   "source": [
    "games = pd.merge(games, slots, left_on=[\"Season\", \"slot\"], right_on=[\"Season\", \"Slot\"], copy=False)\n",
    "games.drop([\"slot\", \"Wscore\", \"Lscore\"], axis=1, inplace=True)\n",
    "games.head(10)"
   ]
  },
  {
   "cell_type": "code",
   "execution_count": null,
   "metadata": {
    "collapsed": false
   },
   "outputs": [],
   "source": [
    "# pre-process games\n",
    "\n",
    "# drop early (play-in) games\n",
    "games = games[games[\"Daynum\"] >  135]\n",
    "games.rename(columns={\"Strongseed\":\"seed1\", \"Weakseed\": \"seed2\"}, inplace=True)\n",
    "\n",
    "day_to_round = {136:1, 137:1, 138:2,139:2, 143:3, 144:3, 145:4, 146:4, 152:5,154:6}\n",
    "round_to_points = {1:1, 2:2, 3:4, 4:8, 5:16, 6:32}\n",
    "games[\"round\"] = games[\"Daynum\"].map(day_to_round)\n",
    "games[\"bracket_points\"] = games[\"round\"].map(round_to_points)\n",
    "\n",
    "games.head()"
   ]
  },
  {
   "cell_type": "code",
   "execution_count": null,
   "metadata": {
    "collapsed": false
   },
   "outputs": [],
   "source": [
    "# make sure we have the right nr of games each year\n",
    "\n",
    "num_games_by_day = games.groupby([\"Season\", \"Daynum\"])[\"Daynum\", \"Season\"].agg(['count'])\n",
    "games.groupby(\"Season\").agg(\"count\")[\"Daynum\"]"
   ]
  },
  {
   "cell_type": "code",
   "execution_count": null,
   "metadata": {
    "collapsed": false
   },
   "outputs": [],
   "source": [
    "# do predictions by slots\n",
    "\n",
    "def make_group(size):\n",
    "    # make a group of given size\n",
    "    players = []\n",
    "    \n",
    "    if size == 2:\n",
    "        # one less risky than other, but cant have one player always playing completely safe\n",
    "        players =[ (\"p_1\", .05), (\"p_1\", .8/(np.random.randint(5)+1))]\n",
    "    else:    \n",
    "        for p in range(size):\n",
    "            players.append((\"p_\" +str(p), p/size))\n",
    "    return players\n",
    "\n",
    "print(\"size 2\", make_group(2))\n",
    "print(\"size 10\", make_group(10)) "
   ]
  },
  {
   "cell_type": "code",
   "execution_count": null,
   "metadata": {
    "collapsed": false
   },
   "outputs": [],
   "source": [
    "# test out with 2003\n",
    "\n",
    "games_2003 = games[games[\"Season\"] == 2003]\n",
    "print(games_2003.shape)\n",
    "games_2003.head()"
   ]
  },
  {
   "cell_type": "code",
   "execution_count": null,
   "metadata": {
    "collapsed": false
   },
   "outputs": [],
   "source": [
    "def get_empty_bracket(tourney):\n",
    "    # separate by round because they will be sequentially picked each round based on picks before\n",
    "    # winners are not taken into account\n",
    "    by_round = {}\n",
    "    for i in range(1,7):\n",
    "        by_round[i] =  tourney[tourney[\"round\"] == i]\n",
    "        #print(by_round[i].shape)\n",
    "    \n",
    "    return by_round\n",
    "empty = get_empty_bracket(games_2003)\n",
    "empty[1].head()"
   ]
  },
  {
   "cell_type": "code",
   "execution_count": null,
   "metadata": {
    "collapsed": false
   },
   "outputs": [],
   "source": [
    "def doSub(s):\n",
    "    # get just seed num instead of \"Z01\"\n",
    "    return int(re.sub(\"[^0-9]\", \"\", s))\n",
    "    \n",
    "\n",
    "def do_picks(bracket, player):\n",
    "    \n",
    "    for rnd in bracket.keys():\n",
    "        # sequentially pick rounds\n",
    "        thisRound = bracket[rnd]\n",
    "\n",
    "        if rnd == 1:\n",
    "            #no need to get winners from previous round'\n",
    "            \n",
    "            thisRound[\"seed1_num\"] = thisRound[\"seed1\"].map(doSub)\n",
    "            thisRound[\"seed2_num\"] = thisRound[\"seed2\"].map(doSub)\n",
    "            \n",
    "            thisRound[\"pick\"] = thisRound.apply(pickGame, axis=1, args=(player[1],))\n",
    "            bracket[1] = thisRound\n",
    "        else:\n",
    "            # get this player's picks from previous round (match by game slot)\n",
    "           \n",
    "            prev = bracket[rnd-1]\n",
    "            \n",
    "            #merge slot with previous round winner\n",
    "            thisRound = pd.merge(thisRound, prev.loc[:, [\"Slot\", \"pick\"]], left_on=[\"seed1\"], right_on=[\"Slot\"])\n",
    "            \n",
    "            thisRound.drop([\"seed1\", \"Slot_y\"], axis=1, inplace=True)\n",
    "            thisRound.rename(columns={\"pick\":\"seed1\", \"Slot_x\": \"Slot\"}, inplace=True)\n",
    "            \n",
    "            #do again for other game\n",
    "            thisRound = pd.merge(thisRound, prev.loc[:, [\"Slot\", \"pick\"]], left_on=[\"seed2\"], right_on=[\"Slot\"])\n",
    "            thisRound.drop([\"seed2\", \"Slot_y\"], axis=1, inplace=True)\n",
    "            thisRound.rename(columns={\"pick\":\"seed2\", \"Slot_x\":\"Slot\"}, inplace=True)\n",
    "            \n",
    "            \n",
    "            thisRound[\"seed1_num\"] = thisRound[\"seed1\"].map(doSub)\n",
    "            thisRound[\"seed2_num\"] = thisRound[\"seed2\"].map(doSub)\n",
    "            \n",
    "            \n",
    "            # pick for given game\n",
    "            thisRound[\"pick\"] = thisRound.apply(pickGame, axis=1, args=(player[1],))\n",
    "        \n",
    "        # add picks to return frame\n",
    "        bracket[rnd] = thisRound\n",
    "    return bracket\n",
    "            \n",
    "def pickGame(g, risk_factor):\n",
    "    # randomly pick a game for given risk factor\n",
    "    \n",
    "    # adjust for seed difference, dont pick 16 over 1 as frequently as 10 over 7\n",
    "    seed_diff = abs(g[\"seed1_num\"] - g[\"seed2_num\"])\n",
    "    if seed_diff > 2:\n",
    "        risk_factor /= seed_diff/2\n",
    "    \n",
    "    pick_upset = np.random.binomial(1, risk_factor)\n",
    "    \n",
    "    first_favorite = g[\"seed1_num\"] < g[\"seed2_num\"]\n",
    "    #print(risk_factor, pick_upset,  first_favorite, g[\"seed1_num\"] , g[\"seed2_num\"] )\n",
    "    \n",
    "    if pick_upset and first_favorite or not pick_upset and not first_favorite:\n",
    "        return g[\"seed2\"]\n",
    "    \n",
    "    return g[\"seed1\"]\n",
    "    \n",
    "    \n",
    "    "
   ]
  },
  {
   "cell_type": "code",
   "execution_count": null,
   "metadata": {
    "collapsed": false
   },
   "outputs": [],
   "source": [
    "this_bracket = get_empty_bracket(games_2003)\n",
    "this_bracket = do_picks(this_bracket,  (\"b\",.5))\n",
    "pd.concat(this_bracket.values()).tail(10)"
   ]
  },
  {
   "cell_type": "code",
   "execution_count": null,
   "metadata": {
    "collapsed": true
   },
   "outputs": [],
   "source": [
    "def is_upset(g):\n",
    "    #whos the pick\n",
    "    if g[\"pick\"] == g[\"seed1\"] and g[\"seed1_num\"] > g[\"seed2_num\"] or g[\"pick\"] == g[\"seed2\"] and g[\"seed1_num\"] < g[\"seed2_num\"]:\n",
    "        return True\n",
    "    return False\n",
    "    "
   ]
  },
  {
   "cell_type": "code",
   "execution_count": null,
   "metadata": {
    "collapsed": false
   },
   "outputs": [],
   "source": [
    "tournament = pd.concat(this_bracket.values())\n",
    "\n",
    "tournament[\"is_upset\"] =  tournament.apply(is_upset, axis=1)\n",
    "\n",
    "\n",
    "round_to_points = {1:1, 2:2, 3:4, 4:8, 5:16, 6:32}\n",
    "\n",
    "tournament[\"bracket_points\"] = tournament[\"round\"].map(round_to_points)\n",
    "tournament[\"correct_pick\"] = tournament[\"pick\"] == tournament[\"Wseed\"]\n",
    "tournament[\"points_awarded\"] = tournament[\"bracket_points\"] * tournament[\"correct_pick\"]\n",
    "\n",
    "print(tournament.shape)\n",
    "tournament.tail(15)"
   ]
  },
  {
   "cell_type": "code",
   "execution_count": null,
   "metadata": {
    "collapsed": false
   },
   "outputs": [],
   "source": [
    "tournament[\"bracket_points\"].sum()"
   ]
  },
  {
   "cell_type": "code",
   "execution_count": null,
   "metadata": {
    "collapsed": false
   },
   "outputs": [],
   "source": [
    "def do_preds_for_group(group, games):\n",
    "    res = []\n",
    "    for player in group:\n",
    "        this_bracket = get_empty_bracket(games)\n",
    "        this_bracket = do_picks(this_bracket,  player)\n",
    "        tournament = pd.concat(this_bracket.values())\n",
    "\n",
    "        tournament[\"is_upset\"] =  tournament.apply(is_upset, axis=1)\n",
    "\n",
    "       \n",
    "        tournament[\"correct_pick\"] = tournament[\"pick\"] == tournament[\"Wseed\"]\n",
    "        tournament[\"points_awarded\"] = tournament[\"bracket_points\"] * tournament[\"correct_pick\"]\n",
    "        \n",
    "        \n",
    "        \n",
    "        res.append({\"player\": player[0], \"upsets\": tournament[\"is_upset\"].sum(), \"points\" : tournament[\"points_awarded\"].sum(),\n",
    "                   \"upsets_1\": tournament.loc[tournament[\"round\"] == 1, \"is_upset\"].sum(),\n",
    "                    \"upsets_2\": tournament.loc[tournament[\"round\"] == 2, \"is_upset\"].sum(), \n",
    "                    \"upsets_3\": tournament.loc[tournament[\"round\"] == 3, \"is_upset\"].sum(), \n",
    "                    \"upsets_4\": tournament.loc[tournament[\"round\"] == 4, \"is_upset\"].sum(), \n",
    "                    \"upsets_5\": tournament.loc[tournament[\"round\"] == 5, \"is_upset\"].sum(), \n",
    "                    \"upsets_6\": tournament.loc[tournament[\"round\"] == 6, \"is_upset\"].sum() \n",
    "                   \n",
    "                   })\n",
    "        \n",
    "        # delete this guys stuff\n",
    "        del tournament\n",
    "        del this_bracket\n",
    "    return pd.DataFrame(res)\n",
    "\n"
   ]
  },
  {
   "cell_type": "code",
   "execution_count": null,
   "metadata": {
    "collapsed": false
   },
   "outputs": [],
   "source": [
    "# test for group of 100 in 2003\n",
    "gps_100 = []\n",
    "gps_100.append(do_preds_for_group(make_group(100), games_2003))\n",
    "gps_100[len(gps_100)-1].sort_values(\"points\", ascending=False).head(10)"
   ]
  },
  {
   "cell_type": "code",
   "execution_count": null,
   "metadata": {
    "collapsed": false
   },
   "outputs": [],
   "source": [
    "def optimal_preds_for_group(games, size, iterations):\n",
    "    winners = []\n",
    "    upsets = []\n",
    "    for i in range(iterations):\n",
    "        brackets = do_preds_for_group(make_group(size), games)\n",
    "        winners.append(brackets.sort_values(\"points\", ascending=False).head(1))\n",
    "        upsets.append(brackets[\"upsets\"].mean())\n",
    "    return pd.concat(winners), sum(upsets)/len(upsets)\n",
    "\n"
   ]
  },
  {
   "cell_type": "code",
   "execution_count": null,
   "metadata": {
    "collapsed": false,
    "scrolled": true
   },
   "outputs": [],
   "source": [
    "def optimal_throughout_time(games, size, iterations):\n",
    "    \n",
    "    # for each season find the optimal for given group size\n",
    "    seasons = games[\"Season\"].unique()\n",
    "    \n",
    "    sums = {}\n",
    "    upsets = {}\n",
    "    for season in seasons:\n",
    "        print(season, size)\n",
    "        these_games = games[games[\"Season\"] == season]\n",
    "        optimal, upsets_num = optimal_preds_for_group(these_games, size, iterations)\n",
    "        \n",
    "        sums[season] = optimal.mean()\n",
    "        upsets[season] = upsets_num\n",
    "    return sum(sums.values())/len(seasons) , sum(upsets.values())/len(upsets)\n",
    "\n",
    "#quick = optimal_throughout_time(games)"
   ]
  },
  {
   "cell_type": "code",
   "execution_count": null,
   "metadata": {
    "collapsed": true
   },
   "outputs": [],
   "source": [
    "# set dicts for results, not doing this all at once\n",
    "upset_means = {}\n",
    "results = {}"
   ]
  },
  {
   "cell_type": "code",
   "execution_count": null,
   "metadata": {
    "collapsed": false,
    "scrolled": false
   },
   "outputs": [],
   "source": [
    "# do preds for each group size\n",
    "group_sizes = [2, 5]\n",
    "#group_sizes = [10, 25, 50, 100]\n",
    "#group_sizes = [200, 5000, 1000]\n",
    "#group_sizes = [5000]\n",
    "\n",
    "for g in group_sizes:\n",
    "    results[g], upset_means[g] = optimal_throughout_time(games, g, 1000)\n",
    "    print(results)\n",
    "print(results)\n"
   ]
  },
  {
   "cell_type": "code",
   "execution_count": null,
   "metadata": {
    "collapsed": true
   },
   "outputs": [],
   "source": []
  },
  {
   "cell_type": "code",
   "execution_count": null,
   "metadata": {
    "collapsed": true
   },
   "outputs": [],
   "source": []
  },
  {
   "cell_type": "code",
   "execution_count": null,
   "metadata": {
    "collapsed": true
   },
   "outputs": [],
   "source": []
  }
 ],
 "metadata": {
  "kernelspec": {
   "display_name": "Python 3",
   "language": "python",
   "name": "python3"
  },
  "language_info": {
   "codemirror_mode": {
    "name": "ipython",
    "version": 3
   },
   "file_extension": ".py",
   "mimetype": "text/x-python",
   "name": "python",
   "nbconvert_exporter": "python",
   "pygments_lexer": "ipython3",
   "version": "3.5.2"
  }
 },
 "nbformat": 4,
 "nbformat_minor": 0
}
